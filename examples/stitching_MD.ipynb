{
 "cells": [
  {
   "cell_type": "markdown",
   "id": "c177680b-f6cd-4974-8008-5cf05fd40e1a",
   "metadata": {},
   "source": [
    "To execute e cell with code, select it & press Shift+Enter"
   ]
  },
  {
   "cell_type": "markdown",
   "id": "b62f1c14-0b5a-4c3a-b087-4a87c22387a5",
   "metadata": {},
   "source": [
    "# Stitch MD ImageXpress data, using m2stitch"
   ]
  },
  {
   "cell_type": "markdown",
   "id": "02ea2b60-6769-4a04-9744-66907aeafc62",
   "metadata": {},
   "source": [
    "More info about m2stitch:  \n",
    "[https://github.com/yfukai/m2stitch](https://github.com/yfukai/m2stitch)  \n",
    "Mostly following algorithms by [MIST](https://pages.nist.gov/MIST)"
   ]
  },
  {
   "cell_type": "markdown",
   "id": "f2917d68-37a2-4946-95d4-28cea3b10b36",
   "metadata": {},
   "source": [
    "## Define file-paths:"
   ]
  },
  {
   "cell_type": "markdown",
   "id": "6b0a87cb-4ba2-401d-b2e7-28dfa1b54c48",
   "metadata": {},
   "source": [
    "Your files should be saved with the following structure:  \n",
    "Make sure to call the different folders 'round*'  \n",
    "('*' can be any characters)\n",
    "```\n",
    "base_dir\n",
    "├───round1\n",
    "│   ├───*A1*\n",
    "│   │   └───*_Plate_*\n",
    "│   │       └───TimePoint_1\n",
    "│   │           ├───ZStep_1\n",
    "│   │           ├───ZStep_2\n",
    "|   │           .\n",
    "|   │           .\n",
    "│   ├───*A2*\n",
    "│   │   └───*_Plate_*\n",
    "│   │       └───TimePoint_1\n",
    "│   │           ├───ZStep_1\n",
    "│   │           ├───ZStep_2\n",
    "|   │           .\n",
    "|   │           .\n",
    "|   │   .\n",
    "|   │   .\n",
    "├───round2\n",
    "│   ├───*A1*\n",
    "|   .\n",
    "|   .\n",
    "```"
   ]
  },
  {
   "cell_type": "markdown",
   "id": "0635491f-cc26-49ac-935c-a3607120ced4",
   "metadata": {},
   "source": [
    "In the cell below, change the following file-paths:\n",
    "* `flatfield_directory`: the directory where flatfield images for all channels are saved (set to None, if no flatfield correction should be done)\n",
    "* `base_dir`: the directory where all rounds are in\n",
    "* `save_dir`: the directory where stitched images will be saved"
   ]
  },
  {
   "cell_type": "code",
   "execution_count": null,
   "id": "e665bbe7-d6e0-4e9a-a409-c55d76ebd692",
   "metadata": {},
   "outputs": [],
   "source": [
    "flatfield_directory = 'Z:\\\\zmbstaff\\\\9740\\\\Raw_Data\\\\shading_corrections\\\\BaSiC'\n",
    "base_dir = 'Z:\\\\zmbstaff\\\\9800\\\\Raw_Data\\\\MD4iRVP3'\n",
    "save_dir = 'Z:\\\\zmbstaff\\\\9800\\\\Raw_Data\\\\MD4iRVP3\\\\stitched'"
   ]
  },
  {
   "cell_type": "markdown",
   "id": "8e195593-8760-42b7-a184-f1b7fe4f1043",
   "metadata": {},
   "source": [
    "The rest of the cells can be executed 'as is':"
   ]
  },
  {
   "cell_type": "markdown",
   "id": "3a1c5b63-be37-451f-87b8-f2cce512172a",
   "metadata": {},
   "source": [
    "## Import modules:"
   ]
  },
  {
   "cell_type": "code",
   "execution_count": null,
   "id": "a9dac84e-f5af-4027-9bea-b0f5815a74af",
   "metadata": {},
   "outputs": [],
   "source": [
    "import os\n",
    "import glob\n",
    "from zmb_hcs.stitching import check_tile_configuration, stitch_and_export_MD"
   ]
  },
  {
   "cell_type": "markdown",
   "id": "fb968a2f-1edf-4647-9f23-c4bd0a54f466",
   "metadata": {},
   "source": [
    "## Process all rounds/wells at once:"
   ]
  },
  {
   "cell_type": "code",
   "execution_count": null,
   "id": "a09d65d3-89da-4cfa-94ec-9363efcd15c3",
   "metadata": {},
   "outputs": [],
   "source": [
    "dirs_import = glob.glob(base_dir+'\\\\round*\\\\*\\\\')\n",
    "for dir_import in dirs_import:\n",
    "    round_dir, well_dir = os.path.dirname(dir_import).split('\\\\')[-2:]\n",
    "    export_dir = os.path.join(save_dir, round_dir, well_dir)\n",
    "    os.makedirs(export_dir, exist_ok=True)\n",
    "    stitch_and_export_MD(export_dir+'\\\\stitched', dir_import, tile_subset=None, flatfield_directory=flatfield_directory, channels_used_for_stitching=[0])"
   ]
  },
  {
   "cell_type": "code",
   "execution_count": null,
   "id": "33db3dd8-1882-4e1a-b5a6-3cbaaf26ee6c",
   "metadata": {},
   "outputs": [],
   "source": []
  },
  {
   "cell_type": "markdown",
   "id": "2af1be98-d88f-42be-9f1f-8b4ecd62bfd8",
   "metadata": {},
   "source": [
    "## Alternatively: Process rounds/wells individually:"
   ]
  },
  {
   "cell_type": "markdown",
   "id": "b4bc1106-86c4-49bf-9437-78ffae29728b",
   "metadata": {},
   "source": [
    "### Round1, A4"
   ]
  },
  {
   "cell_type": "markdown",
   "id": "2b59c070-c624-49f6-b00e-0a2e0bf03f02",
   "metadata": {},
   "source": [
    "Change the round and well to the one you want to have stitched:"
   ]
  },
  {
   "cell_type": "code",
   "execution_count": null,
   "id": "50b93ab3-6a74-4f39-96fe-b95eb5b37dc6",
   "metadata": {},
   "outputs": [],
   "source": [
    "round = 'round1'\n",
    "well = 'A4'"
   ]
  },
  {
   "cell_type": "code",
   "execution_count": null,
   "id": "b93f1318-5511-4a12-af8d-c7822b0dafa5",
   "metadata": {},
   "outputs": [],
   "source": [
    "# find the import directory:\n",
    "dir_import = glob.glob(base_dir+'\\\\'+round+'\\\\*'+well+'*')[0]\n",
    "dir_import"
   ]
  },
  {
   "cell_type": "code",
   "execution_count": null,
   "id": "76a51f56-f2db-45fc-bdec-d61e587d55eb",
   "metadata": {},
   "outputs": [],
   "source": [
    "# create the export directory:\n",
    "round_dir, well_dir = os.path.dirname(dir).split('\\\\')[-2:]\n",
    "export_dir = os.path.join(save_dir, round_dir, well_dir)\n",
    "os.makedirs(export_dir, exist_ok=True)"
   ]
  },
  {
   "cell_type": "code",
   "execution_count": null,
   "id": "e58e35cd-5f1d-451d-917e-d19f67f85d6a",
   "metadata": {},
   "outputs": [],
   "source": [
    "# view the tile-configuration:\n",
    "check_tile_configuration(dir_import)"
   ]
  },
  {
   "cell_type": "code",
   "execution_count": null,
   "id": "b0c2a43d-dfa3-4edf-902a-116d1a4028da",
   "metadata": {},
   "outputs": [],
   "source": [
    "# change this to the tile-subset you want stitched (set to None, if all should be stitched)\n",
    "tile_subset = [28,29,30,43,44,45,58,59,60]"
   ]
  },
  {
   "cell_type": "code",
   "execution_count": null,
   "id": "43685241-b0c1-47e5-a58e-59fd9490c475",
   "metadata": {},
   "outputs": [],
   "source": [
    "# stitch and export one round/well:\n",
    "stitch_and_export_MD(export_dir+'\\\\stitched', dir_import, tile_subset=tile_subset, flatfield_directory=flatfield_directory, channels_used_for_stitching=[0])"
   ]
  },
  {
   "cell_type": "code",
   "execution_count": null,
   "id": "08f06ee6-3d61-4ca8-a9bb-1778fa070bbc",
   "metadata": {},
   "outputs": [],
   "source": []
  }
 ],
 "metadata": {
  "kernelspec": {
   "display_name": "Python [conda env:zmb_hcs] *",
   "language": "python",
   "name": "conda-env-zmb_hcs-py"
  },
  "language_info": {
   "codemirror_mode": {
    "name": "ipython",
    "version": 3
   },
   "file_extension": ".py",
   "mimetype": "text/x-python",
   "name": "python",
   "nbconvert_exporter": "python",
   "pygments_lexer": "ipython3",
   "version": "3.9.18"
  }
 },
 "nbformat": 4,
 "nbformat_minor": 5
}
