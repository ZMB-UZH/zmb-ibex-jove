{
 "cells": [
  {
   "cell_type": "markdown",
   "id": "c177680b-f6cd-4974-8008-5cf05fd40e1a",
   "metadata": {},
   "source": [
    "To execute e cell with code, select it & press Shift+Enter"
   ]
  },
  {
   "cell_type": "markdown",
   "id": "b62f1c14-0b5a-4c3a-b087-4a87c22387a5",
   "metadata": {},
   "source": [
    "# Stitch MD ImageXpress data, using m2stitch"
   ]
  },
  {
   "cell_type": "markdown",
   "id": "02ea2b60-6769-4a04-9744-66907aeafc62",
   "metadata": {},
   "source": [
    "More info about m2stitch:  \n",
    "[https://github.com/yfukai/m2stitch](https://github.com/yfukai/m2stitch)  \n",
    "Mostly following algorithms by [MIST](https://pages.nist.gov/MIST)"
   ]
  },
  {
   "cell_type": "markdown",
   "id": "f2917d68-37a2-4946-95d4-28cea3b10b36",
   "metadata": {},
   "source": [
    "## Define file-paths:"
   ]
  },
  {
   "cell_type": "markdown",
   "id": "6b0a87cb-4ba2-401d-b2e7-28dfa1b54c48",
   "metadata": {},
   "source": [
    "Your files should be saved with the following structure:  \n",
    "('*' can be any characters)\n",
    "```\n",
    "base_dir\n",
    "├───cycle1\n",
    "│   ├───A01\n",
    "│   │   └───*_Plate_*\n",
    "│   │       └───TimePoint_1\n",
    "│   │           ├───ZStep_1\n",
    "│   │           ├───ZStep_2\n",
    "|   │           .\n",
    "|   │           .\n",
    "│   ├───A02\n",
    "│   │   └───*_Plate_*\n",
    "│   │       └───TimePoint_1\n",
    "│   │           ├───ZStep_1\n",
    "│   │           ├───ZStep_2\n",
    "|   │           .\n",
    "|   │           .\n",
    "|   │   .\n",
    "|   │   .\n",
    "├───cycle2\n",
    "│   ├───A01\n",
    "|   .\n",
    "|   .\n",
    "```"
   ]
  },
  {
   "cell_type": "markdown",
   "id": "0635491f-cc26-49ac-935c-a3607120ced4",
   "metadata": {},
   "source": [
    "In the cell below, change the following file-paths:\n",
    "* `flatfield_directory`: the directory where flatfield images for all channels are saved (set to None, if no flatfield correction should be done)\n",
    "* `base_dir`: the directory where all cycles are in\n",
    "* `save_dir`: the directory where stitched images will be saved"
   ]
  },
  {
   "cell_type": "code",
   "execution_count": null,
   "id": "e665bbe7-d6e0-4e9a-a409-c55d76ebd692",
   "metadata": {},
   "outputs": [],
   "source": [
    "flatfield_directory = r'Z:\\zmbstaff\\9780\\Processed_Data\\test_data'\n",
    "base_dir = r'Z:\\zmbstaff\\9780\\Raw_Data\\test_data'\n",
    "save_dir = r'Z:\\zmbstaff\\9780\\Processed_Data\\test_data\\stitched'"
   ]
  },
  {
   "cell_type": "markdown",
   "id": "3a1c5b63-be37-451f-87b8-f2cce512172a",
   "metadata": {},
   "source": [
    "## Import modules:"
   ]
  },
  {
   "cell_type": "code",
   "execution_count": null,
   "id": "a9dac84e-f5af-4027-9bea-b0f5815a74af",
   "metadata": {},
   "outputs": [],
   "source": [
    "import glob\n",
    "import os\n",
    "from pathlib import Path\n",
    "\n",
    "from zmb_hcs.stitching import check_tile_configuration, stitch_and_export_MD"
   ]
  },
  {
   "cell_type": "markdown",
   "id": "8e51f111-06de-4aa6-bbb5-752ebea31ec4",
   "metadata": {},
   "source": [
    "explanation to stitch_and_export_MD function:\n",
    "\n",
    "required arguments:\n",
    "* save_name: string\n",
    "    * path, where stitched file is saved. Will be appended with '_channelName.ome.tiff'\n",
    "* dir_import: string\n",
    "    * directory, where MD-plate is stored\n",
    " \n",
    "optional arguments:\n",
    "* tile_subset: None, or list of ints (default: None)\n",
    "    * None: All tiles are stitched\n",
    "    * list[ints]: Only a subset of tiles is stitched\n",
    "* channels_used_for_stitching: List of ints (default: [0])\n",
    "    * List of channel numbers. If multiple are chosen, the average is used.\n",
    "* flatfield_directory: None, or string (default: None)\n",
    "    * None: No flatfield correction is done\n",
    "    * sting: path to directory, where flatfield images are stored\n",
    "* fuse_fun: function (default: fuse_mean_gradient)\n",
    "    * function to use for fusing images\n",
    "* ncc_threshold: float (default: 0.1)\n",
    "    * parameter for m2stitch. Adjust, if you get the error 'there is no good top pair (try lowering the ncc_threshold)'"
   ]
  },
  {
   "cell_type": "markdown",
   "id": "fb968a2f-1edf-4647-9f23-c4bd0a54f466",
   "metadata": {},
   "source": [
    "## Process all cycless/wells at once:"
   ]
  },
  {
   "cell_type": "code",
   "execution_count": null,
   "id": "db3865ae-12b9-4263-9639-92c0eaa9e2ed",
   "metadata": {},
   "outputs": [],
   "source": [
    "dirs_import = glob.glob(str(Path(base_dir) / 'cycle*' / '*'))\n",
    "for dir_import in dirs_import:\n",
    "    cycle_dir, well_dir = Path(dir_import).parts[-2:]\n",
    "    export_dir = Path(save_dir) / cycle_dir / well_dir\n",
    "    os.makedirs(export_dir, exist_ok=True)\n",
    "    stitch_and_export_MD(\n",
    "        str(export_dir / 'stitched'),\n",
    "        dir_import,\n",
    "        tile_subset=None,\n",
    "        flatfield_directory=flatfield_directory,\n",
    "        channels_used_for_stitching=[0],\n",
    "        ncc_threshold=0.01\n",
    "    )"
   ]
  },
  {
   "cell_type": "code",
   "execution_count": null,
   "id": "33db3dd8-1882-4e1a-b5a6-3cbaaf26ee6c",
   "metadata": {},
   "outputs": [],
   "source": []
  }
 ],
 "metadata": {
  "kernelspec": {
   "display_name": "Python 3 (ipykernel)",
   "language": "python",
   "name": "python3"
  },
  "language_info": {
   "codemirror_mode": {
    "name": "ipython",
    "version": 3
   },
   "file_extension": ".py",
   "mimetype": "text/x-python",
   "name": "python",
   "nbconvert_exporter": "python",
   "pygments_lexer": "ipython3",
   "version": "3.9.19"
  }
 },
 "nbformat": 4,
 "nbformat_minor": 5
}
