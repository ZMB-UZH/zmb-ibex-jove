{
 "cells": [
  {
   "cell_type": "markdown",
   "id": "90e083f1-fdcd-4347-8303-63aa8d6aadcf",
   "metadata": {},
   "source": [
    "To execute e cell with code, select it & press Shift+Enter"
   ]
  },
  {
   "cell_type": "markdown",
   "id": "41beba18-57ce-47b1-a5de-42dba1474a71",
   "metadata": {},
   "source": [
    "# Calculate flatfield shading correction from all measured datasets, using BaSiC"
   ]
  },
  {
   "cell_type": "markdown",
   "id": "e71f1711-af72-41b9-aaba-b1061bc7eaf7",
   "metadata": {},
   "source": [
    "More info about BaSiC:  \n",
    "[https://github.com/peng-lab/BaSiCPy](https://github.com/peng-lab/BaSiCPy)  \n",
    "[doi: 10.1038/ncomms14836](http://www.nature.com/articles/ncomms14836)"
   ]
  },
  {
   "cell_type": "markdown",
   "id": "a4becead-f7c5-47b2-adf7-feba6c1b79c0",
   "metadata": {},
   "source": [
    "## Define file-paths:"
   ]
  },
  {
   "cell_type": "markdown",
   "id": "4021efa2-c362-4b00-9133-c4b14ad6075e",
   "metadata": {},
   "source": [
    "Your files should be saved with the following structure:  \n",
    "Make sure to call the different folders 'round*'  \n",
    "('*' can be any characters)\n",
    "```\n",
    "base_dir\n",
    "├───round1\n",
    "│   ├───*A1*\n",
    "│   │   └───*_Plate_*\n",
    "│   │       └───TimePoint_1\n",
    "│   │           ├───ZStep_1\n",
    "│   │           ├───ZStep_2\n",
    "|   │           .\n",
    "|   │           .\n",
    "│   ├───*A2*\n",
    "│   │   └───*_Plate_*\n",
    "│   │       └───TimePoint_1\n",
    "│   │           ├───ZStep_1\n",
    "│   │           ├───ZStep_2\n",
    "|   │           .\n",
    "|   │           .\n",
    "|   │   .\n",
    "|   │   .\n",
    "├───round2\n",
    "│   ├───*A1*\n",
    "|   .\n",
    "|   .\n",
    "```"
   ]
  },
  {
   "cell_type": "markdown",
   "id": "e47a786b-1dfa-4198-b294-c97b559f1fc7",
   "metadata": {},
   "source": [
    "In the cell below, change the following file-paths:\n",
    "* `base_dir`: the directory where all rounds are in\n",
    "* `save_dir`: the directory where the shading corrections will be saved\n",
    "\n",
    "Note: always use double backslashes '\\\\' to separate folders"
   ]
  },
  {
   "cell_type": "code",
   "execution_count": null,
   "id": "684f82ee-91e6-48f4-bfe8-9ba395c81725",
   "metadata": {},
   "outputs": [],
   "source": [
    "base_dir = 'Z:\\\\zmbstaff\\\\9780\\\\Raw_Data\\\\MD_1'\n",
    "save_dir = 'Z:\\\\zmbstaff\\\\9780\\\\Processed_Data\\\\MD_1\\\\shading_corrections_BaSiC'"
   ]
  },
  {
   "cell_type": "markdown",
   "id": "05443063-e175-4be8-8684-31d9e124b7c7",
   "metadata": {},
   "source": [
    "The rest of the cells can be executed 'as is':"
   ]
  },
  {
   "cell_type": "markdown",
   "id": "14564b84-28d7-4d80-9ab8-9bd1034dd990",
   "metadata": {},
   "source": [
    "## Import modules:"
   ]
  },
  {
   "cell_type": "code",
   "execution_count": null,
   "id": "1d1b2821-84c5-4039-b0f0-c86c6a0387c1",
   "metadata": {},
   "outputs": [],
   "source": [
    "import os\n",
    "import glob\n",
    "import time\n",
    "import numpy as np\n",
    "import pandas as pd\n",
    "import matplotlib.pyplot as plt\n",
    "import tifffile\n",
    "\n",
    "from basicpy import BaSiC\n",
    "import jax\n",
    "jax.config.update('jax_platform_name', 'cpu')\n",
    "\n",
    "from zmb_hcs.parser_MD import parse_files_zmb, get_well_image_FCZYX\n",
    "from zmb_hcs.BaSiC_helper_funs import get_middle_slice"
   ]
  },
  {
   "cell_type": "markdown",
   "id": "d158dcfd-4e75-4666-be58-c654c5cd92ae",
   "metadata": {},
   "source": [
    "## Find & structure files:"
   ]
  },
  {
   "cell_type": "code",
   "execution_count": null,
   "id": "e857add1-1cef-468b-a5ec-fcabe4764be0",
   "metadata": {},
   "outputs": [],
   "source": [
    "# load all files into pandas dataframe\n",
    "plate_dirs = glob.glob(base_dir+'\\\\round*\\\\*')\n",
    "files_list = []\n",
    "for plate_dir in plate_dirs:\n",
    "    files, _ = parse_files_zmb(plate_dir, query=\"\")\n",
    "    files['plate_dir'] = plate_dir\n",
    "    files_list.append(files)\n",
    "files = pd.concat(files_list)\n",
    "files = files[files.z.notnull()]\n",
    "files = files.reset_index()\n",
    "channels = files['channel'].unique()"
   ]
  },
  {
   "cell_type": "code",
   "execution_count": null,
   "id": "2d802d44-0b21-4c8a-80d2-084f90a818fe",
   "metadata": {},
   "outputs": [],
   "source": [
    "# get channel_names of files\n",
    "for plate_dir in plate_dirs:\n",
    "    files_plate_dir = files.query(\"plate_dir==@plate_dir\")\n",
    "    for channel in files_plate_dir['channel'].unique():\n",
    "        files_channel = files_plate_dir.query(\"channel==@channel\")\n",
    "        fn_sel = list(files_channel['path'])[0]\n",
    "        with tifffile.TiffFile(fn_sel) as tif:\n",
    "            metadata = tif.metaseries_metadata\n",
    "            channel_name = metadata['PlaneInfo']['_IllumSetting_']\n",
    "        indxs = files_channel.index\n",
    "        files.loc[indxs,'channel_name'] = channel_name"
   ]
  },
  {
   "cell_type": "markdown",
   "id": "3a68ed09-a542-4595-b59d-fb88f246049b",
   "metadata": {},
   "source": [
    "## Find used channels:"
   ]
  },
  {
   "cell_type": "code",
   "execution_count": null,
   "id": "a7ed1cc0-0cd9-44f7-8ee6-28ae54089889",
   "metadata": {},
   "outputs": [],
   "source": [
    "channel_names = files.channel_name.unique()\n",
    "channel_names"
   ]
  },
  {
   "cell_type": "markdown",
   "id": "a460a88a-31aa-4009-8af7-8a63678dc2eb",
   "metadata": {},
   "source": [
    "## Calculate flatfield with BaSiC:"
   ]
  },
  {
   "cell_type": "markdown",
   "id": "f94b804c-33e7-4651-8796-30b2bb0539cb",
   "metadata": {},
   "source": [
    "For each channel:\n",
    "* Find all plates in 'base_dir', that contain this channel\n",
    "* From each of these tiles, load the middle slice & use BaSiC to calculate the flatfield image"
   ]
  },
  {
   "cell_type": "code",
   "execution_count": null,
   "id": "522c6f52-57e0-4d3f-aa54-21fa6cdc63e6",
   "metadata": {},
   "outputs": [],
   "source": [
    "basic_dict = {}\n",
    "for channel_name in channel_names:\n",
    "    print(f\"Processing '{channel_name}' channel\")\n",
    "    print(\"loading data...\")\n",
    "    start_time = time.time()\n",
    "    data_da, dx, dy = get_middle_slice(channel_name, files)\n",
    "    data = data_da.compute()\n",
    "    print(f\"Took {np.round(time.time() - start_time)}s\")\n",
    "    print(\"running BaSiC...\")\n",
    "    start_time = time.time()\n",
    "    basic = BaSiC(get_darkfield=False, smoothness_flatfield=1)\n",
    "    basic.fit(data)\n",
    "    basic_dict[channel_name] = basic\n",
    "    print(f\"Took {np.round(time.time() - start_time)}s\\n\")\n",
    "print('Finished')"
   ]
  },
  {
   "cell_type": "markdown",
   "id": "fc9c335c-90c9-4007-b9b2-76d40264620f",
   "metadata": {},
   "source": [
    "## Plot calculated flatfield images:"
   ]
  },
  {
   "cell_type": "code",
   "execution_count": null,
   "id": "526cf731-f35d-4dbb-a7d7-89ffdaad944e",
   "metadata": {},
   "outputs": [],
   "source": [
    "fig, axes = plt.subplots(1, len(channel_names), figsize=(15, 3))\n",
    "for n, channel_name in enumerate(channel_names):\n",
    "    axes[n].set_title(channel_name)\n",
    "    im = axes[n].imshow(basic_dict[channel_name].flatfield)\n",
    "    fig.colorbar(im, ax=axes[n])\n",
    "fig.tight_layout()"
   ]
  },
  {
   "cell_type": "markdown",
   "id": "79a8a0fc-fbe7-462e-9b54-85d399cd0c41",
   "metadata": {},
   "source": [
    "## Save flatfield images in 'save_dir'"
   ]
  },
  {
   "cell_type": "code",
   "execution_count": null,
   "id": "f5379689-3bc5-439c-b2cc-417e79e0db3c",
   "metadata": {},
   "outputs": [],
   "source": [
    "# save flatfield images\n",
    "os.makedirs(save_dir, exist_ok=True)\n",
    "for channel_name in channel_names:\n",
    "    with tifffile.TiffWriter(save_dir+f'\\\\flatfield_{channel_name}.ome.tif', bigtiff=True) as tif:\n",
    "        tif.write(basic_dict[channel_name].flatfield,\n",
    "                  photometric='minisblack',\n",
    "                  metadata={'axes': 'YX',\n",
    "                            'PhysicalSizeX': dx,\n",
    "                            'PhysicalSizeY': dy,\n",
    "                           }\n",
    "                 )"
   ]
  },
  {
   "cell_type": "code",
   "execution_count": null,
   "id": "de86abe3-cd1f-46cf-8b5c-a5e37645251a",
   "metadata": {},
   "outputs": [],
   "source": []
  }
 ],
 "metadata": {
  "kernelspec": {
   "display_name": "Python [conda env:zmb_hcs]",
   "language": "python",
   "name": "conda-env-zmb_hcs-py"
  },
  "language_info": {
   "codemirror_mode": {
    "name": "ipython",
    "version": 3
   },
   "file_extension": ".py",
   "mimetype": "text/x-python",
   "name": "python",
   "nbconvert_exporter": "python",
   "pygments_lexer": "ipython3",
   "version": "3.9.18"
  }
 },
 "nbformat": 4,
 "nbformat_minor": 5
}
